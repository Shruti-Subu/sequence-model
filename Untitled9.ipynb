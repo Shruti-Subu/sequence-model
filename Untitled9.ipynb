{
  "nbformat": 4,
  "nbformat_minor": 0,
  "metadata": {
    "colab": {
      "name": "Untitled9.ipynb",
      "provenance": [],
      "toc_visible": true,
      "authorship_tag": "ABX9TyO2pcivt/NwL3+xD66ZjSB+",
      "include_colab_link": true
    },
    "kernelspec": {
      "name": "python3",
      "display_name": "Python 3"
    },
    "language_info": {
      "name": "python"
    },
    "accelerator": "GPU"
  },
  "cells": [
    {
      "cell_type": "markdown",
      "metadata": {
        "id": "view-in-github",
        "colab_type": "text"
      },
      "source": [
        "<a href=\"https://colab.research.google.com/github/Shruti-Subu/sequence-model/blob/main/Untitled9.ipynb\" target=\"_parent\"><img src=\"https://colab.research.google.com/assets/colab-badge.svg\" alt=\"Open In Colab\"/></a>"
      ]
    },
    {
      "cell_type": "markdown",
      "metadata": {
        "id": "5CMZ4hjaTOUH"
      },
      "source": [
        "#**LIBRARIES**"
      ]
    },
    {
      "cell_type": "code",
      "metadata": {
        "id": "un-COfyETCva"
      },
      "source": [
        "from io import open\n",
        "import os, string, random, time, math\n",
        "import matplotlib.pyplot as plt\n",
        "import seaborn as sns\n",
        "import numpy as np\n",
        "from sklearn.model_selection import train_test_split\n",
        "import torch\n",
        "import torch.nn as nn\n",
        "import torch.optim as optim"
      ],
      "execution_count": 71,
      "outputs": []
    },
    {
      "cell_type": "code",
      "metadata": {
        "id": "ywgTHZHGilmQ"
      },
      "source": [
        "from IPython.display import clear_output"
      ],
      "execution_count": 72,
      "outputs": []
    },
    {
      "cell_type": "code",
      "metadata": {
        "id": "niax13LBTeoR"
      },
      "source": [
        "# Instantiates the device to be used as GPU/CPU based on availability\n",
        "device_gpu = torch.device(\"cuda:0\" if torch.cuda.is_available() else \"cpu\")"
      ],
      "execution_count": 73,
      "outputs": []
    },
    {
      "cell_type": "code",
      "metadata": {
        "colab": {
          "base_uri": "https://localhost:8080/"
        },
        "id": "9-fgJLwfThzN",
        "outputId": "51e19b9e-a1aa-4a5c-959a-599c491c2033"
      },
      "source": [
        "device_gpu"
      ],
      "execution_count": 74,
      "outputs": [
        {
          "output_type": "execute_result",
          "data": {
            "text/plain": [
              "device(type='cuda', index=0)"
            ]
          },
          "metadata": {
            "tags": []
          },
          "execution_count": 74
        }
      ]
    },
    {
      "cell_type": "markdown",
      "metadata": {
        "id": "ebFHeNcTTvXe"
      },
      "source": [
        "#**DATASET**"
      ]
    },
    {
      "cell_type": "markdown",
      "metadata": {
        "id": "jXMUA3iiT0wX"
      },
      "source": [
        "**PREPROCESSING**"
      ]
    },
    {
      "cell_type": "code",
      "metadata": {
        "id": "0E9JClAjTkBY"
      },
      "source": [
        "languages = []\n",
        "data = []\n",
        "X = []\n",
        "y = []\n",
        "\n",
        "with open('name2lang.txt', 'r') as f: \n",
        "    for line in f:\n",
        "        line = line.split(',')\n",
        "        name = line[0].strip()\n",
        "        lang = line[1].strip()\n",
        "        if not lang in languages:\n",
        "            languages.append(lang)\n",
        "        X.append(name)\n",
        "        y.append(lang)\n",
        "        data.append((name, lang))\n",
        "\n",
        "n_languages = len(languages)"
      ],
      "execution_count": 75,
      "outputs": []
    },
    {
      "cell_type": "code",
      "metadata": {
        "colab": {
          "base_uri": "https://localhost:8080/"
        },
        "id": "aIpigUoVUUWH",
        "outputId": "aa207977-f88e-459e-ef87-e215306e9d33"
      },
      "source": [
        "print(languages)"
      ],
      "execution_count": 76,
      "outputs": [
        {
          "output_type": "stream",
          "text": [
            "['Portuguese', 'Irish', 'Spanish', 'Vietnamese', 'Chinese', 'Greek', 'Czech', 'Dutch', 'Japanese', 'French', 'German', 'Scottish', 'English', 'Russian', 'Polish', 'Arabic', 'Korean', 'Italian']\n"
          ],
          "name": "stdout"
        }
      ]
    },
    {
      "cell_type": "code",
      "metadata": {
        "colab": {
          "base_uri": "https://localhost:8080/"
        },
        "id": "U-zChJ6iUZp3",
        "outputId": "65b5f248-308a-49ea-da74-29d0802afc69"
      },
      "source": [
        "print(data[0:10])"
      ],
      "execution_count": 77,
      "outputs": [
        {
          "output_type": "stream",
          "text": [
            "[('Abreu', 'Portuguese'), ('Albuquerque', 'Portuguese'), ('Almeida', 'Portuguese'), ('Alves', 'Portuguese'), ('Araujo', 'Portuguese'), ('Araullo', 'Portuguese'), ('Barros', 'Portuguese'), ('Basurto', 'Portuguese'), ('Belo', 'Portuguese'), ('Cabral', 'Portuguese')]\n"
          ],
          "name": "stdout"
        }
      ]
    },
    {
      "cell_type": "markdown",
      "metadata": {
        "id": "Nn71UTE8Um9t"
      },
      "source": [
        "#**TRAIN-TEST SPLIT**"
      ]
    },
    {
      "cell_type": "code",
      "metadata": {
        "id": "zU5JqkpaUbmQ"
      },
      "source": [
        "X_train, X_test, y_train, y_test = train_test_split(X, y, test_size=0.2, random_state=0, stratify=y)\n"
      ],
      "execution_count": 78,
      "outputs": []
    },
    {
      "cell_type": "code",
      "metadata": {
        "colab": {
          "base_uri": "https://localhost:8080/"
        },
        "id": "4Fg1ZE51Ujpe",
        "outputId": "e8de7099-33fc-42aa-dbbd-7608f940c8e5"
      },
      "source": [
        "print(X_train[:5])"
      ],
      "execution_count": 112,
      "outputs": [
        {
          "output_type": "stream",
          "text": [
            "['Abashkin', 'Gulimov', 'Tzelobenok', 'Funnell', 'Zhui']\n"
          ],
          "name": "stdout"
        }
      ]
    },
    {
      "cell_type": "code",
      "metadata": {
        "colab": {
          "base_uri": "https://localhost:8080/"
        },
        "id": "jiP_ZsGKU3j7",
        "outputId": "06e58f0c-45a3-4338-9e72-f812e8eaec7b"
      },
      "source": [
        "print(len(X_train), len(X_test))"
      ],
      "execution_count": 80,
      "outputs": [
        {
          "output_type": "stream",
          "text": [
            "16040 4010\n"
          ],
          "name": "stdout"
        }
      ]
    },
    {
      "cell_type": "markdown",
      "metadata": {
        "id": "8w60NxdOVBSO"
      },
      "source": [
        "#**Encoding names and languages**"
      ]
    },
    {
      "cell_type": "code",
      "metadata": {
        "id": "ctp8pWkBU586"
      },
      "source": [
        "all_letters = string.ascii_letters + \" .,;'\"\n",
        "n_letters = len(all_letters)\n",
        "print(n_letters)"
      ],
      "execution_count": 81,
      "outputs": []
    },
    {
      "cell_type": "code",
      "metadata": {
        "id": "BqBw-eSDVPf8"
      },
      "source": [
        "def name_rep(name):\n",
        "    rep = torch.zeros(len(name), 1, n_letters)\n",
        "    for index, letter in enumerate(name):\n",
        "        pos = all_letters.find(letter)\n",
        "        rep[index][0][pos] = 1\n",
        "    return rep"
      ],
      "execution_count": 82,
      "outputs": []
    },
    {
      "cell_type": "code",
      "metadata": {
        "id": "xcdAXejyVU4x"
      },
      "source": [
        "def lang_rep(lang):\n",
        "    return torch.tensor([languages.index(lang)], dtype=torch.long)"
      ],
      "execution_count": 83,
      "outputs": []
    },
    {
      "cell_type": "code",
      "metadata": {
        "colab": {
          "base_uri": "https://localhost:8080/"
        },
        "id": "9165ufcHVXWk",
        "outputId": "ddc8842d-d7ab-4a05-b3ec-1ff00bca3c8e"
      },
      "source": [
        "name_rep('Abreu')"
      ],
      "execution_count": 84,
      "outputs": [
        {
          "output_type": "execute_result",
          "data": {
            "text/plain": [
              "tensor([[[0., 0., 0., 0., 0., 0., 0., 0., 0., 0., 0., 0., 0., 0., 0., 0., 0.,\n",
              "          0., 0., 0., 0., 0., 0., 0., 0., 0., 1., 0., 0., 0., 0., 0., 0., 0.,\n",
              "          0., 0., 0., 0., 0., 0., 0., 0., 0., 0., 0., 0., 0., 0., 0., 0., 0.,\n",
              "          0., 0., 0., 0., 0., 0.]],\n",
              "\n",
              "        [[0., 1., 0., 0., 0., 0., 0., 0., 0., 0., 0., 0., 0., 0., 0., 0., 0.,\n",
              "          0., 0., 0., 0., 0., 0., 0., 0., 0., 0., 0., 0., 0., 0., 0., 0., 0.,\n",
              "          0., 0., 0., 0., 0., 0., 0., 0., 0., 0., 0., 0., 0., 0., 0., 0., 0.,\n",
              "          0., 0., 0., 0., 0., 0.]],\n",
              "\n",
              "        [[0., 0., 0., 0., 0., 0., 0., 0., 0., 0., 0., 0., 0., 0., 0., 0., 0.,\n",
              "          1., 0., 0., 0., 0., 0., 0., 0., 0., 0., 0., 0., 0., 0., 0., 0., 0.,\n",
              "          0., 0., 0., 0., 0., 0., 0., 0., 0., 0., 0., 0., 0., 0., 0., 0., 0.,\n",
              "          0., 0., 0., 0., 0., 0.]],\n",
              "\n",
              "        [[0., 0., 0., 0., 1., 0., 0., 0., 0., 0., 0., 0., 0., 0., 0., 0., 0.,\n",
              "          0., 0., 0., 0., 0., 0., 0., 0., 0., 0., 0., 0., 0., 0., 0., 0., 0.,\n",
              "          0., 0., 0., 0., 0., 0., 0., 0., 0., 0., 0., 0., 0., 0., 0., 0., 0.,\n",
              "          0., 0., 0., 0., 0., 0.]],\n",
              "\n",
              "        [[0., 0., 0., 0., 0., 0., 0., 0., 0., 0., 0., 0., 0., 0., 0., 0., 0.,\n",
              "          0., 0., 0., 1., 0., 0., 0., 0., 0., 0., 0., 0., 0., 0., 0., 0., 0.,\n",
              "          0., 0., 0., 0., 0., 0., 0., 0., 0., 0., 0., 0., 0., 0., 0., 0., 0.,\n",
              "          0., 0., 0., 0., 0., 0.]]])"
            ]
          },
          "metadata": {
            "tags": []
          },
          "execution_count": 84
        }
      ]
    },
    {
      "cell_type": "code",
      "metadata": {
        "colab": {
          "base_uri": "https://localhost:8080/"
        },
        "id": "-6KCjr_QVa1-",
        "outputId": "d253f88a-413c-4f64-ef61-e9cb424da51f"
      },
      "source": [
        "\n",
        "lang_rep('Portuguese')"
      ],
      "execution_count": 85,
      "outputs": [
        {
          "output_type": "execute_result",
          "data": {
            "text/plain": [
              "tensor([0])"
            ]
          },
          "metadata": {
            "tags": []
          },
          "execution_count": 85
        }
      ]
    },
    {
      "cell_type": "markdown",
      "metadata": {
        "id": "G6O4vuxOVkm4"
      },
      "source": [
        "#**Basic Visualization**"
      ]
    },
    {
      "cell_type": "code",
      "metadata": {
        "id": "JqEScFx5VhvP"
      },
      "source": [
        "count = {}\n",
        "for l in languages: \n",
        "    count[l] = 0\n",
        "for d in data:\n",
        "    count[d[1]] += 1"
      ],
      "execution_count": 86,
      "outputs": []
    },
    {
      "cell_type": "code",
      "metadata": {
        "colab": {
          "base_uri": "https://localhost:8080/"
        },
        "id": "wwV44QEwVrUN",
        "outputId": "cc0e3901-8f79-4873-cc57-81b709818807"
      },
      "source": [
        "print(count)"
      ],
      "execution_count": 87,
      "outputs": [
        {
          "output_type": "stream",
          "text": [
            "{'Portuguese': 74, 'Irish': 232, 'Spanish': 298, 'Vietnamese': 73, 'Chinese': 268, 'Greek': 203, 'Czech': 519, 'Dutch': 297, 'Japanese': 991, 'French': 277, 'German': 724, 'Scottish': 100, 'English': 3668, 'Russian': 9384, 'Polish': 139, 'Arabic': 2000, 'Korean': 94, 'Italian': 709}\n"
          ],
          "name": "stdout"
        }
      ]
    },
    {
      "cell_type": "code",
      "metadata": {
        "colab": {
          "base_uri": "https://localhost:8080/",
          "height": 0
        },
        "id": "SZUHdv_HVsy1",
        "outputId": "76371c3a-cca0-4860-da92-9117655f47f5"
      },
      "source": [
        "plt_ = sns.barplot(list(count.keys()), list(count.values()))\n",
        "plt_.set_xticklabels(plt_.get_xticklabels(), rotation=90)\n",
        "plt.show()"
      ],
      "execution_count": 88,
      "outputs": [
        {
          "output_type": "stream",
          "text": [
            "/usr/local/lib/python3.7/dist-packages/seaborn/_decorators.py:43: FutureWarning: Pass the following variables as keyword args: x, y. From version 0.12, the only valid positional argument will be `data`, and passing other arguments without an explicit keyword will result in an error or misinterpretation.\n",
            "  FutureWarning\n"
          ],
          "name": "stderr"
        },
        {
          "output_type": "display_data",
          "data": {
            "image/png": "[encoded data removed]",
            "text/plain": [
              "<Figure size 432x288 with 1 Axes>"
            ]
          },
          "metadata": {
            "tags": [],
            "needs_background": "light"
          }
        }
      ]
    },
    {
      "cell_type": "markdown",
      "metadata": {
        "id": "B_PBgvSzV04k"
      },
      "source": [
        "#**Basic RNN network**"
      ]
    },
    {
      "cell_type": "code",
      "metadata": {
        "id": "1mouO5McVwPL"
      },
      "source": [
        "class RNN_net(nn.Module):\n",
        "    def __init__(self, input_size, hidden_size, output_size):\n",
        "        super(RNN_net, self).__init__()\n",
        "        self.hidden_size = hidden_size\n",
        "        self.rnn_cell = nn.RNN(input_size, hidden_size)\n",
        "        self.h2o = nn.Linear(hidden_size, output_size)\n",
        "        self.softmax = nn.LogSoftmax(dim=1)\n",
        "    \n",
        "    def forward(self, input_, hidden = None, batch_size = 1):\n",
        "        out, hidden = self.rnn_cell(input_, hidden)\n",
        "        output = self.h2o(hidden.view(-1, self.hidden_size))\n",
        "        output = self.softmax(output)\n",
        "        return output, hidden\n",
        "    \n",
        "    def init_hidden(self, batch_size = 1):\n",
        "        return torch.zeros(1, batch_size, self.hidden_size)"
      ],
      "execution_count": 89,
      "outputs": []
    },
    {
      "cell_type": "code",
      "metadata": {
        "id": "LKjOhkPDf2cn"
      },
      "source": [
        "n_hidden = 128\n",
        "net = RNN_net(n_letters, n_hidden, n_languages)"
      ],
      "execution_count": 90,
      "outputs": []
    },
    {
      "cell_type": "code",
      "metadata": {
        "id": "fg9_UtXPf4Zq"
      },
      "source": [
        "def infer(net, name, device = 'cpu'):\n",
        "    name_ohe = name_rep(name).to(device)\n",
        "    \n",
        "    output, hidden = net(name_ohe)\n",
        "        \n",
        "    if type(hidden) is tuple: # For LSTM\n",
        "        hidden = hidden[0]\n",
        "    index = torch.argmax(hidden)\n",
        "    \n",
        "    return output"
      ],
      "execution_count": 91,
      "outputs": []
    },
    {
      "cell_type": "code",
      "metadata": {
        "colab": {
          "base_uri": "https://localhost:8080/"
        },
        "id": "Te822pIef7WD",
        "outputId": "73717fc3-f345-4ebb-dd5b-3daa68215ede"
      },
      "source": [
        "infer(net, 'Adam')"
      ],
      "execution_count": 92,
      "outputs": [
        {
          "output_type": "execute_result",
          "data": {
            "text/plain": [
              "tensor([[-3.0711, -2.9504, -2.9049, -2.9058, -2.9598, -2.7995, -2.9089, -2.6976,\n",
              "         -2.9066, -2.8772, -2.8054, -2.9547, -2.9267, -2.8657, -3.0524, -2.9102,\n",
              "         -2.7140, -2.8958]], grad_fn=<LogSoftmaxBackward>)"
            ]
          },
          "metadata": {
            "tags": []
          },
          "execution_count": 92
        }
      ]
    },
    {
      "cell_type": "markdown",
      "metadata": {
        "id": "xPljRu5HgM6L"
      },
      "source": [
        "#**Evaluate model**"
      ]
    },
    {
      "cell_type": "code",
      "metadata": {
        "id": "FoyVAKEMgILI"
      },
      "source": [
        "def dataloader(npoints, X_, y_):\n",
        "    to_ret = []\n",
        "    for i in range(npoints):\n",
        "        index_ = np.random.randint(len(X_))\n",
        "        name, lang = X_[index_], y_[index_]\n",
        "        to_ret.append((name, lang, name_rep(name), lang_rep(lang)))\n",
        "    return to_ret"
      ],
      "execution_count": 93,
      "outputs": []
    },
    {
      "cell_type": "code",
      "metadata": {
        "colab": {
          "base_uri": "https://localhost:8080/"
        },
        "id": "_ZGmtnhagV-P",
        "outputId": "4ca66752-233f-4df5-b949-2fc7188716ae"
      },
      "source": [
        "dataloader(2, X_train, y_train)"
      ],
      "execution_count": 94,
      "outputs": [
        {
          "output_type": "execute_result",
          "data": {
            "text/plain": [
              "[('Tzeiger',\n",
              "  'Russian',\n",
              "  tensor([[[0., 0., 0., 0., 0., 0., 0., 0., 0., 0., 0., 0., 0., 0., 0., 0., 0.,\n",
              "            0., 0., 0., 0., 0., 0., 0., 0., 0., 0., 0., 0., 0., 0., 0., 0., 0.,\n",
              "            0., 0., 0., 0., 0., 0., 0., 0., 0., 0., 0., 1., 0., 0., 0., 0., 0.,\n",
              "            0., 0., 0., 0., 0., 0.]],\n",
              "  \n",
              "          [[0., 0., 0., 0., 0., 0., 0., 0., 0., 0., 0., 0., 0., 0., 0., 0., 0.,\n",
              "            0., 0., 0., 0., 0., 0., 0., 0., 1., 0., 0., 0., 0., 0., 0., 0., 0.,\n",
              "            0., 0., 0., 0., 0., 0., 0., 0., 0., 0., 0., 0., 0., 0., 0., 0., 0.,\n",
              "            0., 0., 0., 0., 0., 0.]],\n",
              "  \n",
              "          [[0., 0., 0., 0., 1., 0., 0., 0., 0., 0., 0., 0., 0., 0., 0., 0., 0.,\n",
              "            0., 0., 0., 0., 0., 0., 0., 0., 0., 0., 0., 0., 0., 0., 0., 0., 0.,\n",
              "            0., 0., 0., 0., 0., 0., 0., 0., 0., 0., 0., 0., 0., 0., 0., 0., 0.,\n",
              "            0., 0., 0., 0., 0., 0.]],\n",
              "  \n",
              "          [[0., 0., 0., 0., 0., 0., 0., 0., 1., 0., 0., 0., 0., 0., 0., 0., 0.,\n",
              "            0., 0., 0., 0., 0., 0., 0., 0., 0., 0., 0., 0., 0., 0., 0., 0., 0.,\n",
              "            0., 0., 0., 0., 0., 0., 0., 0., 0., 0., 0., 0., 0., 0., 0., 0., 0.,\n",
              "            0., 0., 0., 0., 0., 0.]],\n",
              "  \n",
              "          [[0., 0., 0., 0., 0., 0., 1., 0., 0., 0., 0., 0., 0., 0., 0., 0., 0.,\n",
              "            0., 0., 0., 0., 0., 0., 0., 0., 0., 0., 0., 0., 0., 0., 0., 0., 0.,\n",
              "            0., 0., 0., 0., 0., 0., 0., 0., 0., 0., 0., 0., 0., 0., 0., 0., 0.,\n",
              "            0., 0., 0., 0., 0., 0.]],\n",
              "  \n",
              "          [[0., 0., 0., 0., 1., 0., 0., 0., 0., 0., 0., 0., 0., 0., 0., 0., 0.,\n",
              "            0., 0., 0., 0., 0., 0., 0., 0., 0., 0., 0., 0., 0., 0., 0., 0., 0.,\n",
              "            0., 0., 0., 0., 0., 0., 0., 0., 0., 0., 0., 0., 0., 0., 0., 0., 0.,\n",
              "            0., 0., 0., 0., 0., 0.]],\n",
              "  \n",
              "          [[0., 0., 0., 0., 0., 0., 0., 0., 0., 0., 0., 0., 0., 0., 0., 0., 0.,\n",
              "            1., 0., 0., 0., 0., 0., 0., 0., 0., 0., 0., 0., 0., 0., 0., 0., 0.,\n",
              "            0., 0., 0., 0., 0., 0., 0., 0., 0., 0., 0., 0., 0., 0., 0., 0., 0.,\n",
              "            0., 0., 0., 0., 0., 0.]]]),\n",
              "  tensor([13])),\n",
              " ('Kang',\n",
              "  'Korean',\n",
              "  tensor([[[0., 0., 0., 0., 0., 0., 0., 0., 0., 0., 0., 0., 0., 0., 0., 0., 0.,\n",
              "            0., 0., 0., 0., 0., 0., 0., 0., 0., 0., 0., 0., 0., 0., 0., 0., 0.,\n",
              "            0., 0., 1., 0., 0., 0., 0., 0., 0., 0., 0., 0., 0., 0., 0., 0., 0.,\n",
              "            0., 0., 0., 0., 0., 0.]],\n",
              "  \n",
              "          [[1., 0., 0., 0., 0., 0., 0., 0., 0., 0., 0., 0., 0., 0., 0., 0., 0.,\n",
              "            0., 0., 0., 0., 0., 0., 0., 0., 0., 0., 0., 0., 0., 0., 0., 0., 0.,\n",
              "            0., 0., 0., 0., 0., 0., 0., 0., 0., 0., 0., 0., 0., 0., 0., 0., 0.,\n",
              "            0., 0., 0., 0., 0., 0.]],\n",
              "  \n",
              "          [[0., 0., 0., 0., 0., 0., 0., 0., 0., 0., 0., 0., 0., 1., 0., 0., 0.,\n",
              "            0., 0., 0., 0., 0., 0., 0., 0., 0., 0., 0., 0., 0., 0., 0., 0., 0.,\n",
              "            0., 0., 0., 0., 0., 0., 0., 0., 0., 0., 0., 0., 0., 0., 0., 0., 0.,\n",
              "            0., 0., 0., 0., 0., 0.]],\n",
              "  \n",
              "          [[0., 0., 0., 0., 0., 0., 1., 0., 0., 0., 0., 0., 0., 0., 0., 0., 0.,\n",
              "            0., 0., 0., 0., 0., 0., 0., 0., 0., 0., 0., 0., 0., 0., 0., 0., 0.,\n",
              "            0., 0., 0., 0., 0., 0., 0., 0., 0., 0., 0., 0., 0., 0., 0., 0., 0.,\n",
              "            0., 0., 0., 0., 0., 0.]]]),\n",
              "  tensor([16]))]"
            ]
          },
          "metadata": {
            "tags": []
          },
          "execution_count": 94
        }
      ]
    },
    {
      "cell_type": "code",
      "metadata": {
        "id": "HW4TazTmgYH6"
      },
      "source": [
        "def eval(net, n_points, topk, X_, y_, device = 'cpu'):\n",
        "    net = net.eval().to(device)\n",
        "    data_ = dataloader(n_points, X_, y_)\n",
        "    correct = 0\n",
        "    \n",
        "    for name, language, name_ohe, lang_rep in data_:\n",
        "        \n",
        "        output = infer(net, name, device)\n",
        "        val, indices = output.topk(topk)\n",
        "        indices = indices.to('cpu')\n",
        "        \n",
        "        if lang_rep in indices:\n",
        "            correct += 1\n",
        "            \n",
        "    accuracy = correct/n_points\n",
        "    return accuracy"
      ],
      "execution_count": 95,
      "outputs": []
    },
    {
      "cell_type": "code",
      "metadata": {
        "colab": {
          "base_uri": "https://localhost:8080/"
        },
        "id": "cJdkqn0jgkpG",
        "outputId": "11f07bec-1b62-4ca9-a5d1-eab7fa0bac8d"
      },
      "source": [
        "eval(net, 1000, 1, X_test, y_test)"
      ],
      "execution_count": 96,
      "outputs": [
        {
          "output_type": "execute_result",
          "data": {
            "text/plain": [
              "0.022"
            ]
          },
          "metadata": {
            "tags": []
          },
          "execution_count": 96
        }
      ]
    },
    {
      "cell_type": "markdown",
      "metadata": {
        "id": "8uNkeQmjgqOd"
      },
      "source": [
        "#**Batching**"
      ]
    },
    {
      "cell_type": "code",
      "metadata": {
        "id": "QySwkcaWgmid"
      },
      "source": [
        "def batched_name_rep(names, max_word_size):\n",
        "    rep = torch.zeros(max_word_size, len(names), n_letters)\n",
        "    for name_index, name in enumerate(names):\n",
        "        for letter_index, letter in enumerate(name):\n",
        "            pos = all_letters.find(letter)\n",
        "            rep[letter_index][name_index][pos] = 1\n",
        "    return rep"
      ],
      "execution_count": 97,
      "outputs": []
    },
    {
      "cell_type": "code",
      "metadata": {
        "id": "P_h2I0h2g0XB"
      },
      "source": [
        "def print_char(name_reps):\n",
        "    name_reps = name_reps.view((-1, name_reps.size()[-1]))\n",
        "    for t in name_reps: \n",
        "        if torch.sum(t) == 0:\n",
        "            print('<pad>')\n",
        "        else:\n",
        "            index = t.argmax()\n",
        "            print(all_letters[index])"
      ],
      "execution_count": 98,
      "outputs": []
    },
    {
      "cell_type": "code",
      "metadata": {
        "colab": {
          "base_uri": "https://localhost:8080/"
        },
        "id": "5FCUn3jQg4I5",
        "outputId": "200bd78d-51a6-4a53-c4f2-6ce85e0ff9b4"
      },
      "source": [
        "out_ = batched_name_rep(['Shyam', 'Ram'], 5)\n",
        "print(out_)\n",
        "print(out_.shape)\n",
        "print_char(out_)"
      ],
      "execution_count": 99,
      "outputs": [
        {
          "output_type": "stream",
          "text": [
            "tensor([[[0., 0., 0., 0., 0., 0., 0., 0., 0., 0., 0., 0., 0., 0., 0., 0., 0.,\n",
            "          0., 0., 0., 0., 0., 0., 0., 0., 0., 0., 0., 0., 0., 0., 0., 0., 0.,\n",
            "          0., 0., 0., 0., 0., 0., 0., 0., 0., 0., 1., 0., 0., 0., 0., 0., 0.,\n",
            "          0., 0., 0., 0., 0., 0.],\n",
            "         [0., 0., 0., 0., 0., 0., 0., 0., 0., 0., 0., 0., 0., 0., 0., 0., 0.,\n",
            "          0., 0., 0., 0., 0., 0., 0., 0., 0., 0., 0., 0., 0., 0., 0., 0., 0.,\n",
            "          0., 0., 0., 0., 0., 0., 0., 0., 0., 1., 0., 0., 0., 0., 0., 0., 0.,\n",
            "          0., 0., 0., 0., 0., 0.]],\n",
            "\n",
            "        [[0., 0., 0., 0., 0., 0., 0., 1., 0., 0., 0., 0., 0., 0., 0., 0., 0.,\n",
            "          0., 0., 0., 0., 0., 0., 0., 0., 0., 0., 0., 0., 0., 0., 0., 0., 0.,\n",
            "          0., 0., 0., 0., 0., 0., 0., 0., 0., 0., 0., 0., 0., 0., 0., 0., 0.,\n",
            "          0., 0., 0., 0., 0., 0.],\n",
            "         [1., 0., 0., 0., 0., 0., 0., 0., 0., 0., 0., 0., 0., 0., 0., 0., 0.,\n",
            "          0., 0., 0., 0., 0., 0., 0., 0., 0., 0., 0., 0., 0., 0., 0., 0., 0.,\n",
            "          0., 0., 0., 0., 0., 0., 0., 0., 0., 0., 0., 0., 0., 0., 0., 0., 0.,\n",
            "          0., 0., 0., 0., 0., 0.]],\n",
            "\n",
            "        [[0., 0., 0., 0., 0., 0., 0., 0., 0., 0., 0., 0., 0., 0., 0., 0., 0.,\n",
            "          0., 0., 0., 0., 0., 0., 0., 1., 0., 0., 0., 0., 0., 0., 0., 0., 0.,\n",
            "          0., 0., 0., 0., 0., 0., 0., 0., 0., 0., 0., 0., 0., 0., 0., 0., 0.,\n",
            "          0., 0., 0., 0., 0., 0.],\n",
            "         [0., 0., 0., 0., 0., 0., 0., 0., 0., 0., 0., 0., 1., 0., 0., 0., 0.,\n",
            "          0., 0., 0., 0., 0., 0., 0., 0., 0., 0., 0., 0., 0., 0., 0., 0., 0.,\n",
            "          0., 0., 0., 0., 0., 0., 0., 0., 0., 0., 0., 0., 0., 0., 0., 0., 0.,\n",
            "          0., 0., 0., 0., 0., 0.]],\n",
            "\n",
            "        [[1., 0., 0., 0., 0., 0., 0., 0., 0., 0., 0., 0., 0., 0., 0., 0., 0.,\n",
            "          0., 0., 0., 0., 0., 0., 0., 0., 0., 0., 0., 0., 0., 0., 0., 0., 0.,\n",
            "          0., 0., 0., 0., 0., 0., 0., 0., 0., 0., 0., 0., 0., 0., 0., 0., 0.,\n",
            "          0., 0., 0., 0., 0., 0.],\n",
            "         [0., 0., 0., 0., 0., 0., 0., 0., 0., 0., 0., 0., 0., 0., 0., 0., 0.,\n",
            "          0., 0., 0., 0., 0., 0., 0., 0., 0., 0., 0., 0., 0., 0., 0., 0., 0.,\n",
            "          0., 0., 0., 0., 0., 0., 0., 0., 0., 0., 0., 0., 0., 0., 0., 0., 0.,\n",
            "          0., 0., 0., 0., 0., 0.]],\n",
            "\n",
            "        [[0., 0., 0., 0., 0., 0., 0., 0., 0., 0., 0., 0., 1., 0., 0., 0., 0.,\n",
            "          0., 0., 0., 0., 0., 0., 0., 0., 0., 0., 0., 0., 0., 0., 0., 0., 0.,\n",
            "          0., 0., 0., 0., 0., 0., 0., 0., 0., 0., 0., 0., 0., 0., 0., 0., 0.,\n",
            "          0., 0., 0., 0., 0., 0.],\n",
            "         [0., 0., 0., 0., 0., 0., 0., 0., 0., 0., 0., 0., 0., 0., 0., 0., 0.,\n",
            "          0., 0., 0., 0., 0., 0., 0., 0., 0., 0., 0., 0., 0., 0., 0., 0., 0.,\n",
            "          0., 0., 0., 0., 0., 0., 0., 0., 0., 0., 0., 0., 0., 0., 0., 0., 0.,\n",
            "          0., 0., 0., 0., 0., 0.]]])\n",
            "torch.Size([5, 2, 57])\n",
            "S\n",
            "R\n",
            "h\n",
            "a\n",
            "y\n",
            "m\n",
            "a\n",
            "<pad>\n",
            "m\n",
            "<pad>\n"
          ],
          "name": "stdout"
        }
      ]
    },
    {
      "cell_type": "code",
      "metadata": {
        "id": "OMRotv16g56c"
      },
      "source": [
        "def batched_lang_rep(langs):\n",
        "    rep = torch.zeros([len(langs)], dtype=torch.long)\n",
        "    for index, lang in enumerate(langs):\n",
        "        rep[index] = languages.index(lang)\n",
        "    return rep"
      ],
      "execution_count": 100,
      "outputs": []
    },
    {
      "cell_type": "code",
      "metadata": {
        "id": "Y6wsgEd_hBtJ"
      },
      "source": [
        "def batched_dataloader(npoints, X_, y_, verbose=False, device = 'cpu'):\n",
        "    names = []\n",
        "    langs = []\n",
        "    X_lengths = []\n",
        "    \n",
        "    for i in range(npoints):\n",
        "        index_ = np.random.randint(len(X_))\n",
        "        name, lang = X_[index_], y_[index_]\n",
        "        X_lengths.append(len(name))\n",
        "        names.append(name)\n",
        "        langs.append(lang)\n",
        "    max_length = max(X_lengths)\n",
        "    \n",
        "    names_rep = batched_name_rep(names, max_length).to(device)\n",
        "    langs_rep = batched_lang_rep(langs).to(device)\n",
        "    \n",
        "    padded_names_rep = torch.nn.utils.rnn.pack_padded_sequence(names_rep, X_lengths, enforce_sorted = False)\n",
        "    \n",
        "    if verbose:\n",
        "        print(names_rep.shape, padded_names_rep.data.shape)\n",
        "        print('--')\n",
        "    \n",
        "    if verbose:\n",
        "        print(names)\n",
        "        print_char(names_rep)\n",
        "        print('--')\n",
        "    \n",
        "    if verbose:\n",
        "        print_char(padded_names_rep.data)\n",
        "        print('Lang Rep', langs_rep.data)\n",
        "        print('Batch sizes', padded_names_rep.batch_sizes)\n",
        "    \n",
        "    \n",
        "    return padded_names_rep.to(device), langs_rep"
      ],
      "execution_count": 101,
      "outputs": []
    },
    {
      "cell_type": "code",
      "metadata": {
        "id": "K_vmY5cRhF3a",
        "colab": {
          "base_uri": "https://localhost:8080/"
        },
        "outputId": "670052bc-e54c-4b09-9ff2-3071bbbacfe6"
      },
      "source": [
        "p, l = batched_dataloader(3, X_train, y_train, True)"
      ],
      "execution_count": 102,
      "outputs": [
        {
          "output_type": "stream",
          "text": [
            "torch.Size([10, 3, 57]) torch.Size([24, 57])\n",
            "--\n",
            "['Turchak', 'Korycansky', 'Zhgutov']\n",
            "T\n",
            "K\n",
            "Z\n",
            "u\n",
            "o\n",
            "h\n",
            "r\n",
            "r\n",
            "g\n",
            "c\n",
            "y\n",
            "u\n",
            "h\n",
            "c\n",
            "t\n",
            "a\n",
            "a\n",
            "o\n",
            "k\n",
            "n\n",
            "v\n",
            "<pad>\n",
            "s\n",
            "<pad>\n",
            "<pad>\n",
            "k\n",
            "<pad>\n",
            "<pad>\n",
            "y\n",
            "<pad>\n",
            "--\n",
            "K\n",
            "T\n",
            "Z\n",
            "o\n",
            "u\n",
            "h\n",
            "r\n",
            "r\n",
            "g\n",
            "y\n",
            "c\n",
            "u\n",
            "c\n",
            "h\n",
            "t\n",
            "a\n",
            "a\n",
            "o\n",
            "n\n",
            "k\n",
            "v\n",
            "s\n",
            "k\n",
            "y\n",
            "Lang Rep tensor([13,  6, 13])\n",
            "Batch sizes tensor([3, 3, 3, 3, 3, 3, 3, 1, 1, 1])\n"
          ],
          "name": "stdout"
        }
      ]
    },
    {
      "cell_type": "markdown",
      "metadata": {
        "id": "3SpC-cdOht7T"
      },
      "source": [
        "#**TRAINING**"
      ]
    },
    {
      "cell_type": "markdown",
      "metadata": {
        "id": "-U9w3ygOhxZ3"
      },
      "source": [
        "**Basic Setup**"
      ]
    },
    {
      "cell_type": "code",
      "metadata": {
        "id": "zXOQpRDfhIo1"
      },
      "source": [
        "def train(net, opt, criterion, n_points):\n",
        "    \n",
        "    opt.zero_grad()\n",
        "    total_loss = 0\n",
        "    \n",
        "    data_ = dataloader(n_points, X_train, y_train)\n",
        "    \n",
        "    total_loss = 0\n",
        "    \n",
        "    for name, language, name_ohe, lang_rep in data_:\n",
        "\n",
        "        hidden = net.init_hidden()\n",
        "\n",
        "        for i in range(name_ohe.size()[0]):\n",
        "            output, hidden = net(name_ohe[i:i+1], hidden)\n",
        "            \n",
        "        loss = criterion(output, lang_rep)\n",
        "        loss.backward(retain_graph=True)\n",
        "        \n",
        "        total_loss += loss\n",
        "        \n",
        "    opt.step()       \n",
        "    return total_loss/n_points"
      ],
      "execution_count": 103,
      "outputs": []
    },
    {
      "cell_type": "code",
      "metadata": {
        "id": "trJipQvgh8Rg"
      },
      "source": [
        "def train_batch(net, opt, criterion, n_points, device = 'cpu'):\n",
        "    \n",
        "    net.train().to(device)\n",
        "    opt.zero_grad()\n",
        "    \n",
        "    batch_input, batch_groundtruth = batched_dataloader(n_points, X_train, y_train, False, device)\n",
        "    \n",
        "    output, hidden = net(batch_input)\n",
        "    \n",
        "    loss = criterion(output, batch_groundtruth)\n",
        "    \n",
        "    loss.backward()\n",
        "    opt.step()\n",
        "    return loss"
      ],
      "execution_count": 104,
      "outputs": []
    },
    {
      "cell_type": "code",
      "metadata": {
        "id": "4ZxdfxRYiA9l"
      },
      "source": [
        "net = RNN_net(n_letters, n_hidden, n_languages)\n",
        "criterion = nn.NLLLoss()\n",
        "opt = optim.SGD(net.parameters(), lr=0.01, momentum=0.9)"
      ],
      "execution_count": 105,
      "outputs": []
    },
    {
      "cell_type": "code",
      "metadata": {
        "colab": {
          "base_uri": "https://localhost:8080/"
        },
        "id": "rJzI-W8viEWL",
        "outputId": "52b8ac95-a0a8-4e06-8279-2cb747e241c3"
      },
      "source": [
        "%%time \n",
        "train(net, opt, criterion, 256)"
      ],
      "execution_count": 106,
      "outputs": [
        {
          "output_type": "stream",
          "text": [
            "CPU times: user 384 ms, sys: 1.51 ms, total: 386 ms\n",
            "Wall time: 388 ms\n"
          ],
          "name": "stdout"
        },
        {
          "output_type": "execute_result",
          "data": {
            "text/plain": [
              "tensor(2.8610, grad_fn=<DivBackward0>)"
            ]
          },
          "metadata": {
            "tags": []
          },
          "execution_count": 106
        }
      ]
    },
    {
      "cell_type": "code",
      "metadata": {
        "id": "FHlfNZoRiG9B"
      },
      "source": [
        "net = RNN_net(n_letters, n_hidden, n_languages)\n",
        "criterion = nn.NLLLoss()\n",
        "opt = optim.SGD(net.parameters(), lr=0.01, momentum=0.9)"
      ],
      "execution_count": 107,
      "outputs": []
    },
    {
      "cell_type": "code",
      "metadata": {
        "colab": {
          "base_uri": "https://localhost:8080/"
        },
        "id": "EW-X0B4CiJ7a",
        "outputId": "41c5a05c-0149-4496-bd8a-8d77e0c8d780"
      },
      "source": [
        "%%time \n",
        "train_batch(net, opt, criterion, 256)"
      ],
      "execution_count": 108,
      "outputs": [
        {
          "output_type": "stream",
          "text": [
            "CPU times: user 25.6 ms, sys: 3.01 ms, total: 28.6 ms\n",
            "Wall time: 28.4 ms\n"
          ],
          "name": "stdout"
        },
        {
          "output_type": "execute_result",
          "data": {
            "text/plain": [
              "tensor(2.8818, grad_fn=<NllLossBackward>)"
            ]
          },
          "metadata": {
            "tags": []
          },
          "execution_count": 108
        }
      ]
    },
    {
      "cell_type": "code",
      "metadata": {
        "id": "sj-mvj2siL4i"
      },
      "source": [
        "def train_setup(net, lr = 0.01, n_batches = 100, batch_size = 10, momentum = 0.9, display_freq=5, device = 'cpu'):\n",
        "    net = net.to(device)\n",
        "    criterion = nn.NLLLoss()\n",
        "    opt = optim.SGD(net.parameters(), lr=lr, momentum=momentum)\n",
        "    \n",
        "    loss_arr = np.zeros(n_batches + 1)\n",
        "    \n",
        "    for i in range(n_batches):\n",
        "        loss_arr[i+1] = (loss_arr[i]*i + train_batch(net, opt, criterion, batch_size, device))/(i + 1)\n",
        "        \n",
        "        if i%display_freq == display_freq-1:\n",
        "            clear_output(wait=True)\n",
        "            \n",
        "            print('Iteration', i, 'Loss', loss_arr[i])\n",
        "            # print('Top-1:', eval(net, len(X_test), 1, X_test, y_test), 'Top-2:', eval(net, len(X_test), 2, X_test, y_test))\n",
        "            plt.figure()\n",
        "            plt.plot(loss_arr[1:i], '-*')\n",
        "            plt.xlabel('Iteration')\n",
        "            plt.ylabel('Loss')\n",
        "            plt.show()\n",
        "            print('\\n\\n')\n",
        "            \n",
        "    print('Top-1:', eval(net, len(X_test), 1, X_test, y_test, device), 'Top-2:', eval(net, len(X_test), 2, X_test, y_test, device))\n",
        "                      "
      ],
      "execution_count": 109,
      "outputs": []
    },
    {
      "cell_type": "markdown",
      "metadata": {
        "id": "XzfoCB_HiWXu"
      },
      "source": [
        "#**RNN CELL**"
      ]
    },
    {
      "cell_type": "code",
      "metadata": {
        "colab": {
          "base_uri": "https://localhost:8080/",
          "height": 398
        },
        "id": "te6UxIDfiTgK",
        "outputId": "92edb41f-b00b-487a-8553-8dc227b1620e"
      },
      "source": [
        "%%time\n",
        "net = RNN_net(n_letters, 128, n_languages)\n",
        "train_setup(net, lr=0.15, n_batches=5000, batch_size = 512, display_freq=500) # CPU Training example"
      ],
      "execution_count": 110,
      "outputs": [
        {
          "output_type": "stream",
          "text": [
            "Iteration 4999 Loss 0.43639981746673584\n"
          ],
          "name": "stdout"
        },
        {
          "output_type": "display_data",
          "data": {
            "image/png": "[encoded data removed]",
            "text/plain": [
              "<Figure size 432x288 with 1 Axes>"
            ]
          },
          "metadata": {
            "tags": [],
            "needs_background": "light"
          }
        },
        {
          "output_type": "stream",
          "text": [
            "\n",
            "\n",
            "\n",
            "Top-1: 0.7698254364089776 Top-2: 0.8518703241895261\n",
            "CPU times: user 3min 30s, sys: 3.56 s, total: 3min 33s\n",
            "Wall time: 3min 33s\n"
          ],
          "name": "stdout"
        }
      ]
    },
    {
      "cell_type": "code",
      "metadata": {
        "colab": {
          "base_uri": "https://localhost:8080/",
          "height": 401
        },
        "id": "vZWG3ekbicW_",
        "outputId": "21fa5de0-5273-47df-8550-bf81b3e9c48c"
      },
      "source": [
        "%%time\n",
        "net = RNN_net(n_letters, 128, n_languages)\n",
        "train_setup(net, lr=0.15, n_batches=5000, batch_size = 512, display_freq=100, device = device_gpu) # GPU Training Example"
      ],
      "execution_count": 111,
      "outputs": [
        {
          "output_type": "stream",
          "text": [
            "Iteration 4999 Loss 0.4485950171947479\n"
          ],
          "name": "stdout"
        },
        {
          "output_type": "display_data",
          "data": {
            "image/png": "[encoded data removed]",
            "text/plain": [
              "<Figure size 432x288 with 1 Axes>"
            ]
          },
          "metadata": {
            "tags": [],
            "needs_background": "light"
          }
        },
        {
          "output_type": "stream",
          "text": [
            "\n",
            "\n",
            "\n",
            "Top-1: 0.7399002493765586 Top-2: 0.8523690773067332\n",
            "CPU times: user 2min 9s, sys: 2.23 s, total: 2min 11s\n",
            "Wall time: 2min 18s\n"
          ],
          "name": "stdout"
        }
      ]
    },
    {
      "cell_type": "markdown",
      "metadata": {
        "id": "Ezw8UaytuiAP"
      },
      "source": [
        "#**Lstm Cell**"
      ]
    },
    {
      "cell_type": "code",
      "metadata": {
        "id": "mLDTLtRbie-M"
      },
      "source": [
        "class LSTM_net(nn.Module):\n",
        "    def __init__(self, input_size, hidden_size, output_size):\n",
        "        super(LSTM_net, self).__init__()\n",
        "        self.hidden_size = hidden_size\n",
        "        self.lstm_cell = nn.LSTM(input_size, hidden_size)\n",
        "        self.h2o = nn.Linear(hidden_size, output_size)\n",
        "        self.softmax = nn.LogSoftmax(dim=1)\n",
        "    \n",
        "    def forward(self, input, hidden = None):\n",
        "        out, hidden = self.lstm_cell(input, hidden)\n",
        "        output = self.h2o(hidden[0].view(-1, self.hidden_size))\n",
        "        output = self.softmax(output)\n",
        "        return output, hidden\n",
        "    \n",
        "    def init_hidden(self, batch_size = 1):\n",
        "        return (torch.zeros(1, batch_size, self.hidden_size), torch.zeros(1, batch_size, self.hidden_size))"
      ],
      "execution_count": 113,
      "outputs": []
    },
    {
      "cell_type": "code",
      "metadata": {
        "colab": {
          "base_uri": "https://localhost:8080/",
          "height": 366
        },
        "id": "kVJ8nV7Nu1OY",
        "outputId": "50122afe-70df-406e-ab79-a801b96f1290"
      },
      "source": [
        "n_hidden = 128\n",
        "net = LSTM_net(n_letters, n_hidden, n_languages)\n",
        "train_setup(net, lr=0.15, n_batches=8000, batch_size = 512, display_freq=1000, device = device_gpu)"
      ],
      "execution_count": 114,
      "outputs": [
        {
          "output_type": "stream",
          "text": [
            "Iteration 7999 Loss 0.24970409274101257\n"
          ],
          "name": "stdout"
        },
        {
          "output_type": "display_data",
          "data": {
            "image/png": "[encoded data removed]",
            "text/plain": [
              "<Figure size 432x288 with 1 Axes>"
            ]
          },
          "metadata": {
            "tags": [],
            "needs_background": "light"
          }
        },
        {
          "output_type": "stream",
          "text": [
            "\n",
            "\n",
            "\n",
            "Top-1: 0.8042394014962594 Top-2: 0.8768079800498753\n"
          ],
          "name": "stdout"
        }
      ]
    },
    {
      "cell_type": "markdown",
      "metadata": {
        "id": "GBSLkG0Gv46K"
      },
      "source": [
        "#**GRU Cell**"
      ]
    },
    {
      "cell_type": "code",
      "metadata": {
        "id": "w8LUKHTgu3fQ"
      },
      "source": [
        "class GRU_net(nn.Module):\n",
        "    def __init__(self, input_size, hidden_size, output_size):\n",
        "        super(GRU_net, self).__init__()\n",
        "        self.hidden_size = hidden_size\n",
        "        self.gru_cell = nn.GRU(input_size, hidden_size)\n",
        "        self.h2o = nn.Linear(hidden_size, output_size)\n",
        "        self.softmax = nn.LogSoftmax(dim=1)\n",
        "    \n",
        "    def forward(self, input, hidden = None):\n",
        "        out, hidden = self.gru_cell(input, hidden)\n",
        "        output = self.h2o(hidden.view(-1, self.hidden_size))\n",
        "        output = self.softmax(output)\n",
        "        return output, hidden"
      ],
      "execution_count": 115,
      "outputs": []
    },
    {
      "cell_type": "code",
      "metadata": {
        "colab": {
          "base_uri": "https://localhost:8080/",
          "height": 364
        },
        "id": "tiTFyCAKwY9D",
        "outputId": "136e77ce-291d-4572-e32a-8e7938436e26"
      },
      "source": [
        "n_hidden = 128\n",
        "net = GRU_net(n_letters, n_hidden, n_languages)\n",
        "train_setup(net, lr=0.15, n_batches=8000, batch_size = 512, display_freq=1000, device = device_gpu)"
      ],
      "execution_count": 116,
      "outputs": [
        {
          "output_type": "stream",
          "text": [
            "Iteration 7999 Loss 0.22027556598186493\n"
          ],
          "name": "stdout"
        },
        {
          "output_type": "display_data",
          "data": {
            "image/png": "[encoded data removed]",
            "text/plain": [
              "<Figure size 432x288 with 1 Axes>"
            ]
          },
          "metadata": {
            "tags": [],
            "needs_background": "light"
          }
        },
        {
          "output_type": "stream",
          "text": [
            "\n",
            "\n",
            "\n",
            "Top-1: 0.8072319201995013 Top-2: 0.8778054862842892\n"
          ],
          "name": "stdout"
        }
      ]
    },
    {
      "cell_type": "code",
      "metadata": {
        "id": "svsxHcefwbGL"
      },
      "source": [
        ""
      ],
      "execution_count": null,
      "outputs": []
    }
  ]
}